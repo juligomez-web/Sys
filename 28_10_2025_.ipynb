{
  "nbformat": 4,
  "nbformat_minor": 0,
  "metadata": {
    "colab": {
      "provenance": [],
      "authorship_tag": "ABX9TyNAwh3Vcf/YpB/wmnYeP0Px",
      "include_colab_link": true
    },
    "kernelspec": {
      "name": "python3",
      "display_name": "Python 3"
    },
    "language_info": {
      "name": "python"
    }
  },
  "cells": [
    {
      "cell_type": "markdown",
      "metadata": {
        "id": "view-in-github",
        "colab_type": "text"
      },
      "source": [
        "<a href=\"https://colab.research.google.com/github/juligomez-web/Sys/blob/main/28_10_2025_.ipynb\" target=\"_parent\"><img src=\"https://colab.research.google.com/assets/colab-badge.svg\" alt=\"Open In Colab\"/></a>"
      ]
    },
    {
      "cell_type": "markdown",
      "source": [
        "---\n",
        "\n",
        "## a)\n",
        "\n",
        "Transformada de Fourier:\n",
        "$$\n",
        "\\mathcal{F}\\{e^{-jw_1 t}\\cos(w_c t)\\}\n",
        "$$\n",
        "\n",
        "Usamos la identidad:\n",
        "$$\n",
        "\\cos(w_c t)=\\frac{1}{2}(e^{jw_c t}+e^{-jw_c t})\n",
        "$$\n",
        "\n",
        "Entonces:\n",
        "$$\n",
        "x(t)=\\frac{1}{2}e^{-j(w_1-w_c)t}+\\frac{1}{2}e^{-j(w_1+w_c)t}\n",
        "$$\n",
        "\n",
        "De tabla:\n",
        "$$\n",
        "\\mathcal{F}\\{e^{-j\\alpha t}\\}=2\\pi \\delta(\\omega-\\alpha)\n",
        "$$\n",
        "\n",
        "Resultado:\n",
        "$$\n",
        "X(\\omega)=\\pi\\left[\\delta(\\omega-(w_1-w_c))+\\delta(\\omega-(w_1+w_c))\\right]\n",
        "$$\n",
        "\n",
        "---\n",
        "\n",
        "## b)\n",
        "\n",
        "Transformada de Fourier:\n",
        "$$\n",
        "\\mathcal{F}\\{u(t)\\cos^2(w_c t)\\}\n",
        "$$\n",
        "\n",
        "Propiedad trigonométrica:\n",
        "$$\n",
        "\\cos^2(w_c t)=\\frac{1+\\cos(2w_c t)}{2}\n",
        "$$\n",
        "\n",
        "Expresamos:\n",
        "$$\n",
        "x(t)=\\frac{1}{2}u(t)+\\frac{1}{2}u(t)\\cos(2w_c t)\n",
        "$$\n",
        "\n",
        "Propiedades de la transformada:\n",
        "$$\n",
        "\\mathcal{F}\\{u(t)\\}=\\pi\\delta(\\omega)+\\frac{1}{j\\omega}\n",
        "$$\n",
        "$$\n",
        "\\mathcal{F}\\{u(t)e^{\\pm j2w_c t}\\}=\\pi\\delta(\\omega\\pm2w_c)+\\frac{1}{j(\\omega\\pm2w_c)}\n",
        "$$\n",
        "\n",
        "Resultado:\n",
        "$$\n",
        "X(\\omega)=\\frac{1}{2}\\left[\\pi\\delta(\\omega)+\\frac{1}{j\\omega}\\right]\n",
        "+\\frac{1}{4}\\left[\\pi\\delta(\\omega-2w_c)+\\frac{1}{j(\\omega-2w_c)}\n",
        "+\\pi\\delta(\\omega+2w_c)+\\frac{1}{j(\\omega+2w_c)}\\right]\n",
        "$$\n",
        "\n",
        "---\n"
      ],
      "metadata": {
        "id": "jh52TD9oiKaX"
      }
    },
    {
      "cell_type": "code",
      "source": [],
      "metadata": {
        "id": "sK49IqKshuwq"
      },
      "execution_count": null,
      "outputs": []
    }
  ]
}